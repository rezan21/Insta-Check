{
 "cells": [
  {
   "cell_type": "code",
   "execution_count": 1,
   "metadata": {},
   "outputs": [],
   "source": [
    "from instagram_private_api import Client, ClientCompatPatch\n",
    "\n",
    "user_name = 'k1630604@kcl.ac.uk'\n",
    "password = 'Aa123123123!'\n",
    "\n",
    "api = Client(user_name, password)\n",
    "the_rank_token = str(api.generate_uuid())\n",
    "the_authd_user = api.authenticated_user_id\n",
    "\n",
    "followings_obj = api.user_following(the_authd_user, the_rank_token)\n",
    "followers_obj = api.user_followers(the_authd_user, the_rank_token)"
   ]
  },
  {
   "cell_type": "code",
   "execution_count": 33,
   "metadata": {},
   "outputs": [],
   "source": [
    "def get_user_stat(user=the_authd_user, followings_obj = followings_obj, followers_obj=followers_obj):\n",
    "    \n",
    "    if user != the_authd_user:\n",
    "        followings_obj = api.user_following(user, the_rank_token)\n",
    "        followers_obj = api.user_followers(user, the_rank_token)\n",
    "\n",
    "    followings_usernames = [followings_obj['users'][i][\"username\"] for i,j in enumerate(followings_obj['users'])]\n",
    "    followers_usernames = [followers_obj['users'][i][\"username\"] for i,j in enumerate(followers_obj['users'])]\n",
    "    mutual_following = []\n",
    "    i_dont_follow = []\n",
    "    they_dont_follow = []\n",
    "    for follower in followers_usernames:\n",
    "        if follower in followings_usernames:\n",
    "            mutual_following.append(follower)\n",
    "        else:\n",
    "            i_dont_follow.append(follower)\n",
    "\n",
    "    for following in followings_usernames:\n",
    "        if following not in followers_usernames:\n",
    "            they_dont_follow.append(following)\n",
    "    return {\"followings\":followings_usernames,\"followers\":followers_usernames,\"mutuals\":mutual_following, \"i_dont_follow_back\":i_dont_follow, \"they_dont_follow_back\":they_dont_follow}\n",
    "\n",
    "\n",
    "\n"
   ]
  },
  {
   "cell_type": "code",
   "execution_count": 34,
   "metadata": {},
   "outputs": [],
   "source": [
    "stat = get_user_stat()"
   ]
  },
  {
   "cell_type": "code",
   "execution_count": 35,
   "metadata": {},
   "outputs": [
    {
     "name": "stdout",
     "output_type": "stream",
     "text": [
      "followers: 29\n",
      "followings: 166\n",
      "mutuals: 27\n",
      "i dont follow back: 2\n",
      "they not following back: 139\n"
     ]
    }
   ],
   "source": [
    "print(f\"followers: {len(stat['followers'])}\")\n",
    "print(f\"followings: {len(stat['followings'])}\")\n",
    "print(f\"mutuals: {len(stat['mutuals'])}\")\n",
    "print(f\"i dont follow back: {len(stat['i_dont_follow_back'])}\")\n",
    "print(f\"they not following back: {len(stat['they_dont_follow_back'])}\")"
   ]
  },
  {
   "cell_type": "code",
   "execution_count": 66,
   "metadata": {},
   "outputs": [],
   "source": [
    "user_id_dict = {}\n",
    "for user_obj in followings_obj[\"users\"]:\n",
    "    user_id_dict.update({user_obj['username']:user_obj['pk']})"
   ]
  },
  {
   "cell_type": "code",
   "execution_count": 67,
   "metadata": {},
   "outputs": [],
   "source": [
    "friends_users = list(user_id_dict.keys())"
   ]
  },
  {
   "cell_type": "code",
   "execution_count": 68,
   "metadata": {},
   "outputs": [],
   "source": [
    "friend = friends_users[100]"
   ]
  },
  {
   "cell_type": "code",
   "execution_count": 69,
   "metadata": {},
   "outputs": [
    {
     "data": {
      "text/plain": [
       "'brittany.conley.524'"
      ]
     },
     "execution_count": 69,
     "metadata": {},
     "output_type": "execute_result"
    }
   ],
   "source": [
    "friend"
   ]
  },
  {
   "cell_type": "code",
   "execution_count": 72,
   "metadata": {},
   "outputs": [],
   "source": [
    "friend = user_id_dict[friend]"
   ]
  },
  {
   "cell_type": "code",
   "execution_count": 73,
   "metadata": {},
   "outputs": [
    {
     "data": {
      "text/plain": [
       "8576164489"
      ]
     },
     "execution_count": 73,
     "metadata": {},
     "output_type": "execute_result"
    }
   ],
   "source": [
    "friend"
   ]
  },
  {
   "cell_type": "code",
   "execution_count": 74,
   "metadata": {},
   "outputs": [
    {
     "data": {
      "text/plain": [
       "{'followings': ['brittanyconley1976',\n",
       "  'zacharyscherer',\n",
       "  'karns_city_fishing_club',\n",
       "  'sumnersturgeon'],\n",
       " 'followers': ['wonderskc',\n",
       "  'dailygrindzz',\n",
       "  'brittanyclaypi',\n",
       "  'brittanyconley1976',\n",
       "  'davidslater16',\n",
       "  'deannasuebest99',\n",
       "  'gabbyangelicola',\n",
       "  'bob72222',\n",
       "  'sumnersturgeon',\n",
       "  'karns_city_fishing_club',\n",
       "  'kylee.parker.330',\n",
       "  'superbaby_kitten69',\n",
       "  'paul.beck11',\n",
       "  'richard.bowser.94043',\n",
       "  'tei_hui.yang',\n",
       "  'diobrando29',\n",
       "  'trentbrenneman',\n",
       "  'botdf_tyler_monroe',\n",
       "  'zacharyscherer'],\n",
       " 'mutuals': ['brittanyconley1976',\n",
       "  'sumnersturgeon',\n",
       "  'karns_city_fishing_club',\n",
       "  'zacharyscherer'],\n",
       " 'i_dont_follow_back': ['wonderskc',\n",
       "  'dailygrindzz',\n",
       "  'brittanyclaypi',\n",
       "  'davidslater16',\n",
       "  'deannasuebest99',\n",
       "  'gabbyangelicola',\n",
       "  'bob72222',\n",
       "  'kylee.parker.330',\n",
       "  'superbaby_kitten69',\n",
       "  'paul.beck11',\n",
       "  'richard.bowser.94043',\n",
       "  'tei_hui.yang',\n",
       "  'diobrando29',\n",
       "  'trentbrenneman',\n",
       "  'botdf_tyler_monroe'],\n",
       " 'they_dont_follow_back': []}"
      ]
     },
     "execution_count": 74,
     "metadata": {},
     "output_type": "execute_result"
    }
   ],
   "source": [
    "get_user_stat(user=friend)"
   ]
  },
  {
   "cell_type": "code",
   "execution_count": null,
   "metadata": {},
   "outputs": [],
   "source": []
  }
 ],
 "metadata": {
  "kernelspec": {
   "display_name": "Python 3",
   "language": "python",
   "name": "python3"
  },
  "language_info": {
   "codemirror_mode": {
    "name": "ipython",
    "version": 3
   },
   "file_extension": ".py",
   "mimetype": "text/x-python",
   "name": "python",
   "nbconvert_exporter": "python",
   "pygments_lexer": "ipython3",
   "version": "3.7.4"
  }
 },
 "nbformat": 4,
 "nbformat_minor": 4
}
